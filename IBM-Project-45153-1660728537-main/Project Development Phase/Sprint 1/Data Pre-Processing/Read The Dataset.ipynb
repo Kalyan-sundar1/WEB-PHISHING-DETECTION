{
 "cells": [
  {
   "cell_type": "code",
   "execution_count": 5,
   "id": "945d7858",
   "metadata": {},
   "outputs": [],
   "source": [
    "import pandas as pd\n",
    "df= pd.read_csv(\"C:\\\\Users\\\\yokes\\\\Downloads\\\\dataset_website.csv\") "
   ]
  },
  {
   "cell_type": "code",
   "execution_count": 9,
   "id": "a4c79a98",
   "metadata": {},
   "outputs": [
    {
     "name": "stdout",
     "output_type": "stream",
     "text": [
      "<class 'pandas.core.frame.DataFrame'>\n",
      "RangeIndex: 11055 entries, 0 to 11054\n",
      "Data columns (total 32 columns):\n",
      " #   Column                       Non-Null Count  Dtype\n",
      "---  ------                       --------------  -----\n",
      " 0   index                        11055 non-null  int64\n",
      " 1   having_IPhaving_IP_Address   11055 non-null  int64\n",
      " 2   URLURL_Length                11055 non-null  int64\n",
      " 3   Shortining_Service           11055 non-null  int64\n",
      " 4   having_At_Symbol             11055 non-null  int64\n",
      " 5   double_slash_redirecting     11055 non-null  int64\n",
      " 6   Prefix_Suffix                11055 non-null  int64\n",
      " 7   having_Sub_Domain            11055 non-null  int64\n",
      " 8   SSLfinal_State               11055 non-null  int64\n",
      " 9   Domain_registeration_length  11055 non-null  int64\n",
      " 10  Favicon                      11055 non-null  int64\n",
      " 11  port                         11055 non-null  int64\n",
      " 12  HTTPS_token                  11055 non-null  int64\n",
      " 13  Request_URL                  11055 non-null  int64\n",
      " 14  URL_of_Anchor                11055 non-null  int64\n",
      " 15  Links_in_tags                11055 non-null  int64\n",
      " 16  SFH                          11055 non-null  int64\n",
      " 17  Submitting_to_email          11055 non-null  int64\n",
      " 18  Abnormal_URL                 11055 non-null  int64\n",
      " 19  Redirect                     11055 non-null  int64\n",
      " 20  on_mouseover                 11055 non-null  int64\n",
      " 21  RightClick                   11055 non-null  int64\n",
      " 22  popUpWidnow                  11055 non-null  int64\n",
      " 23  Iframe                       11055 non-null  int64\n",
      " 24  age_of_domain                11055 non-null  int64\n",
      " 25  DNSRecord                    11055 non-null  int64\n",
      " 26  web_traffic                  11055 non-null  int64\n",
      " 27  Page_Rank                    11055 non-null  int64\n",
      " 28  Google_Index                 11055 non-null  int64\n",
      " 29  Links_pointing_to_page       11055 non-null  int64\n",
      " 30  Statistical_report           11055 non-null  int64\n",
      " 31  Result                       11055 non-null  int64\n",
      "dtypes: int64(32)\n",
      "memory usage: 2.7 MB\n",
      "None\n"
     ]
    }
   ],
   "source": [
    "print(df.info())"
   ]
  },
  {
   "cell_type": "code",
   "execution_count": 10,
   "id": "3ecbdfe0",
   "metadata": {},
   "outputs": [
    {
     "name": "stdout",
     "output_type": "stream",
     "text": [
      "              index  having_IPhaving_IP_Address  URLURL_Length  \\\n",
      "count  11055.000000                11055.000000   11055.000000   \n",
      "mean    5528.000000                    0.313795      -0.633198   \n",
      "std     3191.447947                    0.949534       0.766095   \n",
      "min        1.000000                   -1.000000      -1.000000   \n",
      "25%     2764.500000                   -1.000000      -1.000000   \n",
      "50%     5528.000000                    1.000000      -1.000000   \n",
      "75%     8291.500000                    1.000000      -1.000000   \n",
      "max    11055.000000                    1.000000       1.000000   \n",
      "\n",
      "       Shortining_Service  having_At_Symbol  double_slash_redirecting  \\\n",
      "count        11055.000000      11055.000000              11055.000000   \n",
      "mean             0.738761          0.700588                  0.741474   \n",
      "std              0.673998          0.713598                  0.671011   \n",
      "min             -1.000000         -1.000000                 -1.000000   \n",
      "25%              1.000000          1.000000                  1.000000   \n",
      "50%              1.000000          1.000000                  1.000000   \n",
      "75%              1.000000          1.000000                  1.000000   \n",
      "max              1.000000          1.000000                  1.000000   \n",
      "\n",
      "       Prefix_Suffix  having_Sub_Domain  SSLfinal_State  \\\n",
      "count   11055.000000       11055.000000    11055.000000   \n",
      "mean       -0.734962           0.063953        0.250927   \n",
      "std         0.678139           0.817518        0.911892   \n",
      "min        -1.000000          -1.000000       -1.000000   \n",
      "25%        -1.000000          -1.000000       -1.000000   \n",
      "50%        -1.000000           0.000000        1.000000   \n",
      "75%        -1.000000           1.000000        1.000000   \n",
      "max         1.000000           1.000000        1.000000   \n",
      "\n",
      "       Domain_registeration_length  ...   popUpWidnow        Iframe  \\\n",
      "count                 11055.000000  ...  11055.000000  11055.000000   \n",
      "mean                     -0.336771  ...      0.613388      0.816915   \n",
      "std                       0.941629  ...      0.789818      0.576784   \n",
      "min                      -1.000000  ...     -1.000000     -1.000000   \n",
      "25%                      -1.000000  ...      1.000000      1.000000   \n",
      "50%                      -1.000000  ...      1.000000      1.000000   \n",
      "75%                       1.000000  ...      1.000000      1.000000   \n",
      "max                       1.000000  ...      1.000000      1.000000   \n",
      "\n",
      "       age_of_domain     DNSRecord   web_traffic     Page_Rank  Google_Index  \\\n",
      "count   11055.000000  11055.000000  11055.000000  11055.000000  11055.000000   \n",
      "mean        0.061239      0.377114      0.287291     -0.483673      0.721574   \n",
      "std         0.998168      0.926209      0.827733      0.875289      0.692369   \n",
      "min        -1.000000     -1.000000     -1.000000     -1.000000     -1.000000   \n",
      "25%        -1.000000     -1.000000      0.000000     -1.000000      1.000000   \n",
      "50%         1.000000      1.000000      1.000000     -1.000000      1.000000   \n",
      "75%         1.000000      1.000000      1.000000      1.000000      1.000000   \n",
      "max         1.000000      1.000000      1.000000      1.000000      1.000000   \n",
      "\n",
      "       Links_pointing_to_page  Statistical_report        Result  \n",
      "count            11055.000000        11055.000000  11055.000000  \n",
      "mean                 0.344007            0.719584      0.113885  \n",
      "std                  0.569944            0.694437      0.993539  \n",
      "min                 -1.000000           -1.000000     -1.000000  \n",
      "25%                  0.000000            1.000000     -1.000000  \n",
      "50%                  0.000000            1.000000      1.000000  \n",
      "75%                  1.000000            1.000000      1.000000  \n",
      "max                  1.000000            1.000000      1.000000  \n",
      "\n",
      "[8 rows x 32 columns]\n"
     ]
    }
   ],
   "source": [
    "print(df.describe())"
   ]
  },
  {
   "cell_type": "code",
   "execution_count": null,
   "id": "8a8d798f",
   "metadata": {},
   "outputs": [],
   "source": []
  }
 ],
 "metadata": {
  "kernelspec": {
   "display_name": "Python 3 (ipykernel)",
   "language": "python",
   "name": "python3"
  },
  "language_info": {
   "codemirror_mode": {
    "name": "ipython",
    "version": 3
   },
   "file_extension": ".py",
   "mimetype": "text/x-python",
   "name": "python",
   "nbconvert_exporter": "python",
   "pygments_lexer": "ipython3",
   "version": "3.9.12"
  }
 },
 "nbformat": 4,
 "nbformat_minor": 5
}
