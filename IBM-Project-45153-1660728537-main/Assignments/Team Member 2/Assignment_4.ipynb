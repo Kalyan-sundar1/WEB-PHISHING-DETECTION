{
 "cells": [
  {
   "cell_type": "code",
   "execution_count": 1,
   "id": "cde6b99b",
   "metadata": {},
   "outputs": [],
   "source": [
    "import pandas as pd\n",
    "import numpy as np\n",
    "import seaborn as sns\n",
    "import matplotlib.pyplot as plt\n",
    "\n",
    "# to remove warnings do the following\n",
    "import warnings\n",
    "warnings.filterwarnings('ignore')"
   ]
  },
  {
   "cell_type": "code",
   "execution_count": 2,
   "id": "8ef9f05f",
   "metadata": {},
   "outputs": [
    {
     "data": {
      "text/plain": [
       "'C:\\\\Users\\\\Sathish'"
      ]
     },
     "execution_count": 2,
     "metadata": {},
     "output_type": "execute_result"
    }
   ],
   "source": [
    "pwd"
   ]
  },
  {
   "cell_type": "code",
   "execution_count": 3,
   "id": "46b2c892",
   "metadata": {},
   "outputs": [],
   "source": [
    "import os \n",
    "os.chdir(\"Downloads\")"
   ]
  },
  {
   "cell_type": "markdown",
   "id": "3a1fd62f",
   "metadata": {},
   "source": [
    "# 1. Download the dataset: Dataset\n",
    "# 2. Load the dataset into the tool."
   ]
  },
  {
   "cell_type": "code",
   "execution_count": 4,
   "id": "1e24b382",
   "metadata": {},
   "outputs": [],
   "source": [
    "df = pd.read_csv('Mall_Customers.csv')"
   ]
  },
  {
   "cell_type": "code",
   "execution_count": 5,
   "id": "8d954d9a",
   "metadata": {},
   "outputs": [
    {
     "data": {
      "text/html": [
       "<div>\n",
       "<style scoped>\n",
       "    .dataframe tbody tr th:only-of-type {\n",
       "        vertical-align: middle;\n",
       "    }\n",
       "\n",
       "    .dataframe tbody tr th {\n",
       "        vertical-align: top;\n",
       "    }\n",
       "\n",
       "    .dataframe thead th {\n",
       "        text-align: right;\n",
       "    }\n",
       "</style>\n",
       "<table border=\"1\" class=\"dataframe\">\n",
       "  <thead>\n",
       "    <tr style=\"text-align: right;\">\n",
       "      <th></th>\n",
       "      <th>CustomerID</th>\n",
       "      <th>Gender</th>\n",
       "      <th>Age</th>\n",
       "      <th>Annual Income (k$)</th>\n",
       "      <th>Spending Score (1-100)</th>\n",
       "    </tr>\n",
       "  </thead>\n",
       "  <tbody>\n",
       "    <tr>\n",
       "      <th>0</th>\n",
       "      <td>1</td>\n",
       "      <td>Male</td>\n",
       "      <td>19</td>\n",
       "      <td>15</td>\n",
       "      <td>39</td>\n",
       "    </tr>\n",
       "    <tr>\n",
       "      <th>1</th>\n",
       "      <td>2</td>\n",
       "      <td>Male</td>\n",
       "      <td>21</td>\n",
       "      <td>15</td>\n",
       "      <td>81</td>\n",
       "    </tr>\n",
       "    <tr>\n",
       "      <th>2</th>\n",
       "      <td>3</td>\n",
       "      <td>Female</td>\n",
       "      <td>20</td>\n",
       "      <td>16</td>\n",
       "      <td>6</td>\n",
       "    </tr>\n",
       "    <tr>\n",
       "      <th>3</th>\n",
       "      <td>4</td>\n",
       "      <td>Female</td>\n",
       "      <td>23</td>\n",
       "      <td>16</td>\n",
       "      <td>77</td>\n",
       "    </tr>\n",
       "    <tr>\n",
       "      <th>4</th>\n",
       "      <td>5</td>\n",
       "      <td>Female</td>\n",
       "      <td>31</td>\n",
       "      <td>17</td>\n",
       "      <td>40</td>\n",
       "    </tr>\n",
       "  </tbody>\n",
       "</table>\n",
       "</div>"
      ],
      "text/plain": [
       "   CustomerID  Gender  Age  Annual Income (k$)  Spending Score (1-100)\n",
       "0           1    Male   19                  15                      39\n",
       "1           2    Male   21                  15                      81\n",
       "2           3  Female   20                  16                       6\n",
       "3           4  Female   23                  16                      77\n",
       "4           5  Female   31                  17                      40"
      ]
     },
     "execution_count": 5,
     "metadata": {},
     "output_type": "execute_result"
    }
   ],
   "source": [
    "df.head()"
   ]
  },
  {
   "cell_type": "code",
   "execution_count": 6,
   "id": "81fecfeb",
   "metadata": {},
   "outputs": [
    {
     "data": {
      "text/html": [
       "<div>\n",
       "<style scoped>\n",
       "    .dataframe tbody tr th:only-of-type {\n",
       "        vertical-align: middle;\n",
       "    }\n",
       "\n",
       "    .dataframe tbody tr th {\n",
       "        vertical-align: top;\n",
       "    }\n",
       "\n",
       "    .dataframe thead th {\n",
       "        text-align: right;\n",
       "    }\n",
       "</style>\n",
       "<table border=\"1\" class=\"dataframe\">\n",
       "  <thead>\n",
       "    <tr style=\"text-align: right;\">\n",
       "      <th></th>\n",
       "      <th>CustomerID</th>\n",
       "      <th>Gender</th>\n",
       "      <th>Age</th>\n",
       "      <th>Annual_Income</th>\n",
       "      <th>Spending_Score</th>\n",
       "    </tr>\n",
       "  </thead>\n",
       "  <tbody>\n",
       "    <tr>\n",
       "      <th>0</th>\n",
       "      <td>1</td>\n",
       "      <td>Male</td>\n",
       "      <td>19</td>\n",
       "      <td>15</td>\n",
       "      <td>39</td>\n",
       "    </tr>\n",
       "    <tr>\n",
       "      <th>1</th>\n",
       "      <td>2</td>\n",
       "      <td>Male</td>\n",
       "      <td>21</td>\n",
       "      <td>15</td>\n",
       "      <td>81</td>\n",
       "    </tr>\n",
       "    <tr>\n",
       "      <th>2</th>\n",
       "      <td>3</td>\n",
       "      <td>Female</td>\n",
       "      <td>20</td>\n",
       "      <td>16</td>\n",
       "      <td>6</td>\n",
       "    </tr>\n",
       "    <tr>\n",
       "      <th>3</th>\n",
       "      <td>4</td>\n",
       "      <td>Female</td>\n",
       "      <td>23</td>\n",
       "      <td>16</td>\n",
       "      <td>77</td>\n",
       "    </tr>\n",
       "    <tr>\n",
       "      <th>4</th>\n",
       "      <td>5</td>\n",
       "      <td>Female</td>\n",
       "      <td>31</td>\n",
       "      <td>17</td>\n",
       "      <td>40</td>\n",
       "    </tr>\n",
       "  </tbody>\n",
       "</table>\n",
       "</div>"
      ],
      "text/plain": [
       "   CustomerID  Gender  Age  Annual_Income  Spending_Score\n",
       "0           1    Male   19             15              39\n",
       "1           2    Male   21             15              81\n",
       "2           3  Female   20             16               6\n",
       "3           4  Female   23             16              77\n",
       "4           5  Female   31             17              40"
      ]
     },
     "execution_count": 6,
     "metadata": {},
     "output_type": "execute_result"
    }
   ],
   "source": [
    "df = df.rename(columns = {'Annual Income (k$)': 'Annual_Income','Spending Score (1-100)': 'Spending_Score'})\n",
    "df.head()"
   ]
  },
  {
   "cell_type": "markdown",
   "id": "d6f8b5f4",
   "metadata": {},
   "source": [
    "# 3. Perform Below Visualizations.\n",
    "# Univariate Analysis"
   ]
  },
  {
   "cell_type": "code",
   "execution_count": 7,
   "id": "7b5f8a48",
   "metadata": {},
   "outputs": [
    {
     "data": {
      "text/plain": [
       "<seaborn.axisgrid.FacetGrid at 0x1548550a6a0>"
      ]
     },
     "execution_count": 7,
     "metadata": {},
     "output_type": "execute_result"
    },
    {
     "data": {
      "image/png": "[encoded data removed]",
      "text/plain": [
       "<Figure size 360x360 with 1 Axes>"
      ]
     },
     "metadata": {
      "needs_background": "light"
     },
     "output_type": "display_data"
    }
   ],
   "source": [
    "sns.displot(df.Annual_Income)"
   ]
  },
  {
   "cell_type": "code",
   "execution_count": 8,
   "id": "b5cf5674",
   "metadata": {},
   "outputs": [
    {
     "data": {
      "text/plain": [
       "<seaborn.axisgrid.FacetGrid at 0x1548a6cbbe0>"
      ]
     },
     "execution_count": 8,
     "metadata": {},
     "output_type": "execute_result"
    },
    {
     "data": {
      "image/png": "[encoded data removed]",
      "text/plain": [
       "<Figure size 360x360 with 1 Axes>"
      ]
     },
     "metadata": {
      "needs_background": "light"
     },
     "output_type": "display_data"
    }
   ],
   "source": [
    "sns.displot(df.Spending_Score)"
   ]
  },
  {
   "cell_type": "code",
   "execution_count": 9,
   "id": "d4d52cd8",
   "metadata": {},
   "outputs": [
    {
     "data": {
      "text/plain": [
       "array([[<AxesSubplot:title={'center':'CustomerID'}>,\n",
       "        <AxesSubplot:title={'center':'Age'}>,\n",
       "        <AxesSubplot:title={'center':'Annual_Income'}>,\n",
       "        <AxesSubplot:title={'center':'Spending_Score'}>],\n",
       "       [<AxesSubplot:>, <AxesSubplot:>, <AxesSubplot:>, <AxesSubplot:>]],\n",
       "      dtype=object)"
      ]
     },
     "execution_count": 9,
     "metadata": {},
     "output_type": "execute_result"
    },
    {
     "data": {
      "image/png": "[encoded data removed]",
      "text/plain": [
       "<Figure size 1440x720 with 8 Axes>"
      ]
     },
     "metadata": {
      "needs_background": "light"
     },
     "output_type": "display_data"
    }
   ],
   "source": [
    "df.hist(figsize=(20,10),grid=False,layout=(2,4),bins=30)"
   ]
  },
  {
   "cell_type": "markdown",
   "id": "75ed4c3a",
   "metadata": {},
   "source": [
    "# Bi- Variate Analysis"
   ]
  },
  {
   "cell_type": "code",
   "execution_count": 10,
   "id": "a11b972a",
   "metadata": {},
   "outputs": [
    {
     "data": {
      "text/plain": [
       "<matplotlib.collections.PathCollection at 0x1548ac1f250>"
      ]
     },
     "execution_count": 10,
     "metadata": {},
     "output_type": "execute_result"
    },
    {
     "data": {
      "image/png": "[encoded data removed]",
      "text/plain": [
       "<Figure size 432x288 with 1 Axes>"
      ]
     },
     "metadata": {
      "needs_background": "light"
     },
     "output_type": "display_data"
    }
   ],
   "source": [
    "plt.scatter(df.Annual_Income,df.Spending_Score)"
   ]
  },
  {
   "cell_type": "code",
   "execution_count": 11,
   "id": "58fd0be0",
   "metadata": {},
   "outputs": [
    {
     "data": {
      "text/plain": [
       "<AxesSubplot:xlabel='Annual_Income', ylabel='Spending_Score'>"
      ]
     },
     "execution_count": 11,
     "metadata": {},
     "output_type": "execute_result"
    },
    {
     "data": {
      "image/png": "[encoded data removed]",
      "text/plain": [
       "<Figure size 432x288 with 1 Axes>"
      ]
     },
     "metadata": {
      "needs_background": "light"
     },
     "output_type": "display_data"
    }
   ],
   "source": [
    "sns.lineplot(df.Annual_Income,df.Spending_Score)"
   ]
  },
  {
   "cell_type": "markdown",
   "id": "5ca8892e",
   "metadata": {},
   "source": [
    "# Multi-Variate Analysis"
   ]
  },
  {
   "cell_type": "code",
   "execution_count": 12,
   "id": "f5d5652c",
   "metadata": {},
   "outputs": [
    {
     "data": {
      "text/plain": [
       "<seaborn.axisgrid.PairGrid at 0x1548acc8ee0>"
      ]
     },
     "execution_count": 12,
     "metadata": {},
     "output_type": "execute_result"
    },
    {
     "data": {
      "image/png": "[encoded data removed]",
      "text/plain": [
       "<Figure size 720x720 with 20 Axes>"
      ]
     },
     "metadata": {
      "needs_background": "light"
     },
     "output_type": "display_data"
    }
   ],
   "source": [
    "sns.pairplot(df)"
   ]
  },
  {
   "cell_type": "code",
   "execution_count": 13,
   "id": "cc27bd5a",
   "metadata": {},
   "outputs": [
    {
     "data": {
      "text/plain": [
       "<AxesSubplot:>"
      ]
     },
     "execution_count": 13,
     "metadata": {},
     "output_type": "execute_result"
    },
    {
     "data": {
      "image/png": "[encoded data removed]",
      "text/plain": [
       "<Figure size 720x720 with 2 Axes>"
      ]
     },
     "metadata": {
      "needs_background": "light"
     },
     "output_type": "display_data"
    }
   ],
   "source": [
    "plt.figure(figsize=(10,10))\n",
    "sns.heatmap(df.corr(),annot=True)"
   ]
  },
  {
   "cell_type": "markdown",
   "id": "1d60c80e",
   "metadata": {},
   "source": [
    "# 4. Perform descriptive statistics on the dataset."
   ]
  },
  {
   "cell_type": "code",
   "execution_count": 14,
   "id": "dde67620",
   "metadata": {},
   "outputs": [
    {
     "data": {
      "text/html": [
       "<div>\n",
       "<style scoped>\n",
       "    .dataframe tbody tr th:only-of-type {\n",
       "        vertical-align: middle;\n",
       "    }\n",
       "\n",
       "    .dataframe tbody tr th {\n",
       "        vertical-align: top;\n",
       "    }\n",
       "\n",
       "    .dataframe thead th {\n",
       "        text-align: right;\n",
       "    }\n",
       "</style>\n",
       "<table border=\"1\" class=\"dataframe\">\n",
       "  <thead>\n",
       "    <tr style=\"text-align: right;\">\n",
       "      <th></th>\n",
       "      <th>CustomerID</th>\n",
       "      <th>Age</th>\n",
       "      <th>Annual_Income</th>\n",
       "      <th>Spending_Score</th>\n",
       "    </tr>\n",
       "  </thead>\n",
       "  <tbody>\n",
       "    <tr>\n",
       "      <th>count</th>\n",
       "      <td>200.000000</td>\n",
       "      <td>200.000000</td>\n",
       "      <td>200.000000</td>\n",
       "      <td>200.000000</td>\n",
       "    </tr>\n",
       "    <tr>\n",
       "      <th>mean</th>\n",
       "      <td>100.500000</td>\n",
       "      <td>38.850000</td>\n",
       "      <td>60.560000</td>\n",
       "      <td>50.200000</td>\n",
       "    </tr>\n",
       "    <tr>\n",
       "      <th>std</th>\n",
       "      <td>57.879185</td>\n",
       "      <td>13.969007</td>\n",
       "      <td>26.264721</td>\n",
       "      <td>25.823522</td>\n",
       "    </tr>\n",
       "    <tr>\n",
       "      <th>min</th>\n",
       "      <td>1.000000</td>\n",
       "      <td>18.000000</td>\n",
       "      <td>15.000000</td>\n",
       "      <td>1.000000</td>\n",
       "    </tr>\n",
       "    <tr>\n",
       "      <th>25%</th>\n",
       "      <td>50.750000</td>\n",
       "      <td>28.750000</td>\n",
       "      <td>41.500000</td>\n",
       "      <td>34.750000</td>\n",
       "    </tr>\n",
       "    <tr>\n",
       "      <th>50%</th>\n",
       "      <td>100.500000</td>\n",
       "      <td>36.000000</td>\n",
       "      <td>61.500000</td>\n",
       "      <td>50.000000</td>\n",
       "    </tr>\n",
       "    <tr>\n",
       "      <th>75%</th>\n",
       "      <td>150.250000</td>\n",
       "      <td>49.000000</td>\n",
       "      <td>78.000000</td>\n",
       "      <td>73.000000</td>\n",
       "    </tr>\n",
       "    <tr>\n",
       "      <th>max</th>\n",
       "      <td>200.000000</td>\n",
       "      <td>70.000000</td>\n",
       "      <td>137.000000</td>\n",
       "      <td>99.000000</td>\n",
       "    </tr>\n",
       "  </tbody>\n",
       "</table>\n",
       "</div>"
      ],
      "text/plain": [
       "       CustomerID         Age  Annual_Income  Spending_Score\n",
       "count  200.000000  200.000000     200.000000      200.000000\n",
       "mean   100.500000   38.850000      60.560000       50.200000\n",
       "std     57.879185   13.969007      26.264721       25.823522\n",
       "min      1.000000   18.000000      15.000000        1.000000\n",
       "25%     50.750000   28.750000      41.500000       34.750000\n",
       "50%    100.500000   36.000000      61.500000       50.000000\n",
       "75%    150.250000   49.000000      78.000000       73.000000\n",
       "max    200.000000   70.000000     137.000000       99.000000"
      ]
     },
     "execution_count": 14,
     "metadata": {},
     "output_type": "execute_result"
    }
   ],
   "source": [
    "df.describe()"
   ]
  },
  {
   "cell_type": "code",
   "execution_count": 15,
   "id": "7e2683f3",
   "metadata": {},
   "outputs": [
    {
     "name": "stdout",
     "output_type": "stream",
     "text": [
      "<class 'pandas.core.frame.DataFrame'>\n",
      "RangeIndex: 200 entries, 0 to 199\n",
      "Data columns (total 5 columns):\n",
      " #   Column          Non-Null Count  Dtype \n",
      "---  ------          --------------  ----- \n",
      " 0   CustomerID      200 non-null    int64 \n",
      " 1   Gender          200 non-null    object\n",
      " 2   Age             200 non-null    int64 \n",
      " 3   Annual_Income   200 non-null    int64 \n",
      " 4   Spending_Score  200 non-null    int64 \n",
      "dtypes: int64(4), object(1)\n",
      "memory usage: 7.9+ KB\n"
     ]
    }
   ],
   "source": [
    "df.info()"
   ]
  },
  {
   "cell_type": "markdown",
   "id": "9ccaad7e",
   "metadata": {},
   "source": [
    "# 5. Check for Missing values and deal with them."
   ]
  },
  {
   "cell_type": "code",
   "execution_count": 16,
   "id": "3c1536d0",
   "metadata": {},
   "outputs": [
    {
     "data": {
      "text/plain": [
       "CustomerID        0\n",
       "Gender            0\n",
       "Age               0\n",
       "Annual_Income     0\n",
       "Spending_Score    0\n",
       "dtype: int64"
      ]
     },
     "execution_count": 16,
     "metadata": {},
     "output_type": "execute_result"
    }
   ],
   "source": [
    "df.isnull().sum() "
   ]
  },
  {
   "cell_type": "markdown",
   "id": "8d9fd5e7",
   "metadata": {},
   "source": [
    "# 6. Find the outliers and replace them outliers"
   ]
  },
  {
   "cell_type": "code",
   "execution_count": 17,
   "id": "703c476b",
   "metadata": {},
   "outputs": [
    {
     "data": {
      "text/plain": [
       "<AxesSubplot:xlabel='Annual_Income'>"
      ]
     },
     "execution_count": 17,
     "metadata": {},
     "output_type": "execute_result"
    },
    {
     "data": {
      "image/png": "[encoded data removed]",
      "text/plain": [
       "<Figure size 432x288 with 1 Axes>"
      ]
     },
     "metadata": {
      "needs_background": "light"
     },
     "output_type": "display_data"
    }
   ],
   "source": [
    "sns.boxplot(df.Annual_Income)"
   ]
  },
  {
   "cell_type": "code",
   "execution_count": 18,
   "id": "71ef098d",
   "metadata": {
    "scrolled": true
   },
   "outputs": [
    {
     "data": {
      "text/plain": [
       "<AxesSubplot:xlabel='Spending_Score'>"
      ]
     },
     "execution_count": 18,
     "metadata": {},
     "output_type": "execute_result"
    },
    {
     "data": {
      "image/png": "[encoded data removed]",
      "text/plain": [
       "<Figure size 432x288 with 1 Axes>"
      ]
     },
     "metadata": {
      "needs_background": "light"
     },
     "output_type": "display_data"
    }
   ],
   "source": [
    "sns.boxplot(df.Spending_Score)"
   ]
  },
  {
   "cell_type": "code",
   "execution_count": 19,
   "id": "6fa957a9",
   "metadata": {},
   "outputs": [
    {
     "name": "stdout",
     "output_type": "stream",
     "text": [
      "61.5\n"
     ]
    },
    {
     "data": {
      "text/plain": [
       "<AxesSubplot:xlabel='Annual_Income'>"
      ]
     },
     "execution_count": 19,
     "metadata": {},
     "output_type": "execute_result"
    },
    {
     "data": {
      "image/png": "[encoded data removed]",
      "text/plain": [
       "<Figure size 432x288 with 1 Axes>"
      ]
     },
     "metadata": {
      "needs_background": "light"
     },
     "output_type": "display_data"
    }
   ],
   "source": [
    "#replacing the outliers\n",
    "median=df['Annual_Income'].median()\n",
    "print(median)\n",
    "df['Annual_Income']=df['Annual_Income'].mask(df['Annual_Income']>130,61.5)\n",
    "sns.boxplot(df['Annual_Income'])"
   ]
  },
  {
   "cell_type": "markdown",
   "id": "d38d47a7",
   "metadata": {},
   "source": [
    "# 7. Check for Categorical columns and perform encoding."
   ]
  },
  {
   "cell_type": "code",
   "execution_count": 20,
   "id": "0a8b6ff0",
   "metadata": {},
   "outputs": [
    {
     "data": {
      "text/html": [
       "<div>\n",
       "<style scoped>\n",
       "    .dataframe tbody tr th:only-of-type {\n",
       "        vertical-align: middle;\n",
       "    }\n",
       "\n",
       "    .dataframe tbody tr th {\n",
       "        vertical-align: top;\n",
       "    }\n",
       "\n",
       "    .dataframe thead th {\n",
       "        text-align: right;\n",
       "    }\n",
       "</style>\n",
       "<table border=\"1\" class=\"dataframe\">\n",
       "  <thead>\n",
       "    <tr style=\"text-align: right;\">\n",
       "      <th></th>\n",
       "      <th>CustomerID</th>\n",
       "      <th>Gender</th>\n",
       "      <th>Age</th>\n",
       "      <th>Annual_Income</th>\n",
       "      <th>Spending_Score</th>\n",
       "    </tr>\n",
       "  </thead>\n",
       "  <tbody>\n",
       "    <tr>\n",
       "      <th>0</th>\n",
       "      <td>1</td>\n",
       "      <td>1</td>\n",
       "      <td>19</td>\n",
       "      <td>15.0</td>\n",
       "      <td>39</td>\n",
       "    </tr>\n",
       "    <tr>\n",
       "      <th>1</th>\n",
       "      <td>2</td>\n",
       "      <td>1</td>\n",
       "      <td>21</td>\n",
       "      <td>15.0</td>\n",
       "      <td>81</td>\n",
       "    </tr>\n",
       "    <tr>\n",
       "      <th>2</th>\n",
       "      <td>3</td>\n",
       "      <td>0</td>\n",
       "      <td>20</td>\n",
       "      <td>16.0</td>\n",
       "      <td>6</td>\n",
       "    </tr>\n",
       "    <tr>\n",
       "      <th>3</th>\n",
       "      <td>4</td>\n",
       "      <td>0</td>\n",
       "      <td>23</td>\n",
       "      <td>16.0</td>\n",
       "      <td>77</td>\n",
       "    </tr>\n",
       "    <tr>\n",
       "      <th>4</th>\n",
       "      <td>5</td>\n",
       "      <td>0</td>\n",
       "      <td>31</td>\n",
       "      <td>17.0</td>\n",
       "      <td>40</td>\n",
       "    </tr>\n",
       "  </tbody>\n",
       "</table>\n",
       "</div>"
      ],
      "text/plain": [
       "   CustomerID  Gender  Age  Annual_Income  Spending_Score\n",
       "0           1       1   19           15.0              39\n",
       "1           2       1   21           15.0              81\n",
       "2           3       0   20           16.0               6\n",
       "3           4       0   23           16.0              77\n",
       "4           5       0   31           17.0              40"
      ]
     },
     "execution_count": 20,
     "metadata": {},
     "output_type": "execute_result"
    }
   ],
   "source": [
    "from sklearn.preprocessing import LabelEncoder\n",
    "le = LabelEncoder()\n",
    "df.Gender=le.fit_transform(df.Gender)\n",
    "df.head()"
   ]
  },
  {
   "cell_type": "markdown",
   "id": "567085de",
   "metadata": {},
   "source": [
    "# 8. Scaling the data"
   ]
  },
  {
   "cell_type": "code",
   "execution_count": 21,
   "id": "991a7969",
   "metadata": {},
   "outputs": [
    {
     "data": {
      "text/html": [
       "<div>\n",
       "<style scoped>\n",
       "    .dataframe tbody tr th:only-of-type {\n",
       "        vertical-align: middle;\n",
       "    }\n",
       "\n",
       "    .dataframe tbody tr th {\n",
       "        vertical-align: top;\n",
       "    }\n",
       "\n",
       "    .dataframe thead th {\n",
       "        text-align: right;\n",
       "    }\n",
       "</style>\n",
       "<table border=\"1\" class=\"dataframe\">\n",
       "  <thead>\n",
       "    <tr style=\"text-align: right;\">\n",
       "      <th></th>\n",
       "      <th>Gender</th>\n",
       "      <th>Age</th>\n",
       "      <th>Annual_Income</th>\n",
       "      <th>Spending_Score</th>\n",
       "    </tr>\n",
       "  </thead>\n",
       "  <tbody>\n",
       "    <tr>\n",
       "      <th>0</th>\n",
       "      <td>1</td>\n",
       "      <td>19</td>\n",
       "      <td>15.0</td>\n",
       "      <td>39</td>\n",
       "    </tr>\n",
       "    <tr>\n",
       "      <th>1</th>\n",
       "      <td>1</td>\n",
       "      <td>21</td>\n",
       "      <td>15.0</td>\n",
       "      <td>81</td>\n",
       "    </tr>\n",
       "    <tr>\n",
       "      <th>2</th>\n",
       "      <td>0</td>\n",
       "      <td>20</td>\n",
       "      <td>16.0</td>\n",
       "      <td>6</td>\n",
       "    </tr>\n",
       "    <tr>\n",
       "      <th>3</th>\n",
       "      <td>0</td>\n",
       "      <td>23</td>\n",
       "      <td>16.0</td>\n",
       "      <td>77</td>\n",
       "    </tr>\n",
       "    <tr>\n",
       "      <th>4</th>\n",
       "      <td>0</td>\n",
       "      <td>31</td>\n",
       "      <td>17.0</td>\n",
       "      <td>40</td>\n",
       "    </tr>\n",
       "  </tbody>\n",
       "</table>\n",
       "</div>"
      ],
      "text/plain": [
       "   Gender  Age  Annual_Income  Spending_Score\n",
       "0       1   19           15.0              39\n",
       "1       1   21           15.0              81\n",
       "2       0   20           16.0               6\n",
       "3       0   23           16.0              77\n",
       "4       0   31           17.0              40"
      ]
     },
     "execution_count": 21,
     "metadata": {},
     "output_type": "execute_result"
    }
   ],
   "source": [
    "data=df.drop(['CustomerID'],axis=1)\n",
    "data.head()"
   ]
  },
  {
   "cell_type": "code",
   "execution_count": 22,
   "id": "c26bbe2b",
   "metadata": {},
   "outputs": [
    {
     "data": {
      "text/plain": [
       "array([[1.        , 0.01923077, 0.        , 0.3877551 ],\n",
       "       [1.        , 0.05769231, 0.        , 0.81632653],\n",
       "       [0.        , 0.03846154, 0.00900901, 0.05102041],\n",
       "       [0.        , 0.09615385, 0.00900901, 0.7755102 ],\n",
       "       [0.        , 0.25      , 0.01801802, 0.39795918],\n",
       "       [0.        , 0.07692308, 0.01801802, 0.76530612],\n",
       "       [0.        , 0.32692308, 0.02702703, 0.05102041],\n",
       "       [0.        , 0.09615385, 0.02702703, 0.94897959],\n",
       "       [1.        , 0.88461538, 0.03603604, 0.02040816],\n",
       "       [0.        , 0.23076923, 0.03603604, 0.7244898 ],\n",
       "       [1.        , 0.94230769, 0.03603604, 0.13265306],\n",
       "       [0.        , 0.32692308, 0.03603604, 1.        ],\n",
       "       [0.        , 0.76923077, 0.04504505, 0.14285714],\n",
       "       [0.        , 0.11538462, 0.04504505, 0.7755102 ],\n",
       "       [1.        , 0.36538462, 0.04504505, 0.12244898],\n",
       "       [1.        , 0.07692308, 0.04504505, 0.79591837],\n",
       "       [0.        , 0.32692308, 0.05405405, 0.34693878],\n",
       "       [1.        , 0.03846154, 0.05405405, 0.66326531],\n",
       "       [1.        , 0.65384615, 0.07207207, 0.28571429],\n",
       "       [0.        , 0.32692308, 0.07207207, 0.98979592],\n",
       "       [1.        , 0.32692308, 0.08108108, 0.34693878],\n",
       "       [1.        , 0.13461538, 0.08108108, 0.73469388],\n",
       "       [0.        , 0.53846154, 0.09009009, 0.04081633],\n",
       "       [1.        , 0.25      , 0.09009009, 0.73469388],\n",
       "       [0.        , 0.69230769, 0.11711712, 0.13265306],\n",
       "       [1.        , 0.21153846, 0.11711712, 0.82653061],\n",
       "       [0.        , 0.51923077, 0.11711712, 0.31632653],\n",
       "       [1.        , 0.32692308, 0.11711712, 0.6122449 ],\n",
       "       [0.        , 0.42307692, 0.12612613, 0.30612245],\n",
       "       [0.        , 0.09615385, 0.12612613, 0.87755102],\n",
       "       [1.        , 0.80769231, 0.13513514, 0.03061224],\n",
       "       [0.        , 0.05769231, 0.13513514, 0.73469388],\n",
       "       [1.        , 0.67307692, 0.16216216, 0.03061224],\n",
       "       [1.        , 0.        , 0.16216216, 0.92857143],\n",
       "       [0.        , 0.59615385, 0.16216216, 0.13265306],\n",
       "       [0.        , 0.05769231, 0.16216216, 0.81632653],\n",
       "       [0.        , 0.46153846, 0.17117117, 0.16326531],\n",
       "       [0.        , 0.23076923, 0.17117117, 0.73469388],\n",
       "       [0.        , 0.34615385, 0.1981982 , 0.25510204],\n",
       "       [0.        , 0.03846154, 0.1981982 , 0.75510204],\n",
       "       [0.        , 0.90384615, 0.20720721, 0.34693878],\n",
       "       [1.        , 0.11538462, 0.20720721, 0.92857143],\n",
       "       [1.        , 0.57692308, 0.21621622, 0.35714286],\n",
       "       [0.        , 0.25      , 0.21621622, 0.6122449 ],\n",
       "       [0.        , 0.59615385, 0.21621622, 0.2755102 ],\n",
       "       [0.        , 0.11538462, 0.21621622, 0.65306122],\n",
       "       [0.        , 0.61538462, 0.22522523, 0.55102041],\n",
       "       [0.        , 0.17307692, 0.22522523, 0.46938776],\n",
       "       [0.        , 0.21153846, 0.22522523, 0.41836735],\n",
       "       [0.        , 0.25      , 0.22522523, 0.41836735],\n",
       "       [0.        , 0.59615385, 0.24324324, 0.52040816],\n",
       "       [1.        , 0.28846154, 0.24324324, 0.60204082],\n",
       "       [0.        , 0.25      , 0.25225225, 0.54081633],\n",
       "       [1.        , 0.78846154, 0.25225225, 0.60204082],\n",
       "       [0.        , 0.61538462, 0.25225225, 0.44897959],\n",
       "       [1.        , 0.55769231, 0.25225225, 0.40816327],\n",
       "       [0.        , 0.63461538, 0.26126126, 0.5       ],\n",
       "       [1.        , 0.98076923, 0.26126126, 0.45918367],\n",
       "       [0.        , 0.17307692, 0.27927928, 0.51020408],\n",
       "       [1.        , 0.67307692, 0.27927928, 0.45918367],\n",
       "       [1.        , 1.        , 0.27927928, 0.56122449],\n",
       "       [1.        , 0.01923077, 0.27927928, 0.55102041],\n",
       "       [0.        , 0.94230769, 0.28828829, 0.52040816],\n",
       "       [0.        , 0.69230769, 0.28828829, 0.59183673],\n",
       "       [1.        , 0.86538462, 0.2972973 , 0.51020408],\n",
       "       [1.        , 0.        , 0.2972973 , 0.59183673],\n",
       "       [0.        , 0.48076923, 0.2972973 , 0.5       ],\n",
       "       [0.        , 0.96153846, 0.2972973 , 0.47959184],\n",
       "       [1.        , 0.01923077, 0.2972973 , 0.59183673],\n",
       "       [0.        , 0.26923077, 0.2972973 , 0.46938776],\n",
       "       [1.        , 1.        , 0.30630631, 0.55102041],\n",
       "       [0.        , 0.55769231, 0.30630631, 0.41836735],\n",
       "       [0.        , 0.80769231, 0.31531532, 0.48979592],\n",
       "       [0.        , 0.80769231, 0.31531532, 0.56122449],\n",
       "       [1.        , 0.78846154, 0.35135135, 0.46938776],\n",
       "       [1.        , 0.15384615, 0.35135135, 0.54081633],\n",
       "       [0.        , 0.51923077, 0.35135135, 0.53061224],\n",
       "       [1.        , 0.42307692, 0.35135135, 0.47959184],\n",
       "       [0.        , 0.09615385, 0.35135135, 0.52040816],\n",
       "       [0.        , 0.59615385, 0.35135135, 0.41836735],\n",
       "       [1.        , 0.75      , 0.35135135, 0.51020408],\n",
       "       [1.        , 0.38461538, 0.35135135, 0.55102041],\n",
       "       [1.        , 0.94230769, 0.35135135, 0.40816327],\n",
       "       [0.        , 0.53846154, 0.35135135, 0.43877551],\n",
       "       [0.        , 0.05769231, 0.35135135, 0.57142857],\n",
       "       [1.        , 0.57692308, 0.35135135, 0.45918367],\n",
       "       [0.        , 0.71153846, 0.37837838, 0.58163265],\n",
       "       [0.        , 0.07692308, 0.37837838, 0.55102041],\n",
       "       [0.        , 0.30769231, 0.38738739, 0.60204082],\n",
       "       [0.        , 0.61538462, 0.38738739, 0.45918367],\n",
       "       [0.        , 0.96153846, 0.3963964 , 0.55102041],\n",
       "       [1.        , 0.        , 0.3963964 , 0.40816327],\n",
       "       [1.        , 0.57692308, 0.40540541, 0.48979592],\n",
       "       [0.        , 0.42307692, 0.40540541, 0.39795918],\n",
       "       [0.        , 0.26923077, 0.40540541, 0.41836735],\n",
       "       [1.        , 0.11538462, 0.40540541, 0.52040816],\n",
       "       [0.        , 0.55769231, 0.40540541, 0.46938776],\n",
       "       [0.        , 0.17307692, 0.40540541, 0.5       ],\n",
       "       [1.        , 0.57692308, 0.41441441, 0.41836735],\n",
       "       [1.        , 0.03846154, 0.41441441, 0.48979592],\n",
       "       [0.        , 0.09615385, 0.42342342, 0.40816327],\n",
       "       [0.        , 0.59615385, 0.42342342, 0.47959184],\n",
       "       [1.        , 0.94230769, 0.42342342, 0.59183673],\n",
       "       [1.        , 0.15384615, 0.42342342, 0.55102041],\n",
       "       [1.        , 0.59615385, 0.42342342, 0.56122449],\n",
       "       [0.        , 0.05769231, 0.42342342, 0.41836735],\n",
       "       [0.        , 0.92307692, 0.43243243, 0.5       ],\n",
       "       [1.        , 0.69230769, 0.43243243, 0.45918367],\n",
       "       [1.        , 0.96153846, 0.43243243, 0.42857143],\n",
       "       [1.        , 0.92307692, 0.43243243, 0.47959184],\n",
       "       [1.        , 0.90384615, 0.43243243, 0.52040816],\n",
       "       [0.        , 0.01923077, 0.43243243, 0.54081633],\n",
       "       [0.        , 0.38461538, 0.44144144, 0.41836735],\n",
       "       [1.        , 0.01923077, 0.44144144, 0.45918367],\n",
       "       [0.        , 0.        , 0.45045045, 0.47959184],\n",
       "       [0.        , 0.01923077, 0.45045045, 0.5       ],\n",
       "       [0.        , 0.86538462, 0.45045045, 0.42857143],\n",
       "       [0.        , 0.59615385, 0.45045045, 0.59183673],\n",
       "       [0.        , 0.63461538, 0.46846847, 0.42857143],\n",
       "       [0.        , 0.61538462, 0.46846847, 0.57142857],\n",
       "       [1.        , 0.17307692, 0.46846847, 0.56122449],\n",
       "       [0.        , 0.38461538, 0.46846847, 0.39795918],\n",
       "       [0.        , 0.42307692, 0.48648649, 0.58163265],\n",
       "       [1.        , 0.40384615, 0.48648649, 0.91836735],\n",
       "       [0.        , 0.09615385, 0.4954955 , 0.28571429],\n",
       "       [0.        , 0.25      , 0.4954955 , 0.7755102 ],\n",
       "       [1.        , 0.48076923, 0.5045045 , 0.34693878],\n",
       "       [1.        , 0.42307692, 0.5045045 , 0.95918367],\n",
       "       [1.        , 0.78846154, 0.5045045 , 0.10204082],\n",
       "       [1.        , 0.38461538, 0.5045045 , 0.75510204],\n",
       "       [1.        , 0.55769231, 0.5045045 , 0.08163265],\n",
       "       [1.        , 0.40384615, 0.5045045 , 0.75510204],\n",
       "       [0.        , 0.13461538, 0.51351351, 0.33673469],\n",
       "       [0.        , 0.25      , 0.51351351, 0.71428571],\n",
       "       [1.        , 0.03846154, 0.52252252, 0.04081633],\n",
       "       [0.        , 0.21153846, 0.52252252, 0.8877551 ],\n",
       "       [0.        , 0.5       , 0.52252252, 0.06122449],\n",
       "       [1.        , 0.26923077, 0.52252252, 0.73469388],\n",
       "       [1.        , 0.01923077, 0.53153153, 0.09183673],\n",
       "       [0.        , 0.32692308, 0.53153153, 0.7244898 ],\n",
       "       [0.        , 0.75      , 0.54054054, 0.04081633],\n",
       "       [1.        , 0.26923077, 0.54054054, 0.93877551],\n",
       "       [0.        , 0.19230769, 0.54954955, 0.39795918],\n",
       "       [0.        , 0.26923077, 0.54954955, 0.87755102],\n",
       "       [1.        , 0.13461538, 0.55855856, 0.1122449 ],\n",
       "       [1.        , 0.19230769, 0.55855856, 0.97959184],\n",
       "       [1.        , 0.57692308, 0.55855856, 0.35714286],\n",
       "       [0.        , 0.26923077, 0.55855856, 0.74489796],\n",
       "       [0.        , 0.30769231, 0.56756757, 0.21428571],\n",
       "       [1.        , 0.30769231, 0.56756757, 0.90816327],\n",
       "       [1.        , 0.48076923, 0.56756757, 0.16326531],\n",
       "       [1.        , 0.40384615, 0.56756757, 0.8877551 ],\n",
       "       [0.        , 0.5       , 0.56756757, 0.19387755],\n",
       "       [0.        , 0.38461538, 0.56756757, 0.76530612],\n",
       "       [0.        , 0.55769231, 0.56756757, 0.15306122],\n",
       "       [0.        , 0.17307692, 0.56756757, 0.89795918],\n",
       "       [1.        , 0.36538462, 0.56756757, 0.        ],\n",
       "       [0.        , 0.23076923, 0.56756757, 0.78571429],\n",
       "       [1.        , 0.30769231, 0.56756757, 0.        ],\n",
       "       [0.        , 0.23076923, 0.56756757, 0.73469388],\n",
       "       [0.        , 0.73076923, 0.57657658, 0.34693878],\n",
       "       [0.        , 0.21153846, 0.57657658, 0.83673469],\n",
       "       [1.        , 0.01923077, 0.59459459, 0.04081633],\n",
       "       [0.        , 0.25      , 0.59459459, 0.93877551],\n",
       "       [1.        , 0.61538462, 0.63063063, 0.25510204],\n",
       "       [0.        , 0.34615385, 0.63063063, 0.75510204],\n",
       "       [1.        , 0.46153846, 0.63963964, 0.19387755],\n",
       "       [0.        , 0.28846154, 0.63963964, 0.95918367],\n",
       "       [0.        , 0.34615385, 0.64864865, 0.26530612],\n",
       "       [1.        , 0.26923077, 0.64864865, 0.63265306],\n",
       "       [1.        , 0.42307692, 0.64864865, 0.12244898],\n",
       "       [1.        , 0.19230769, 0.64864865, 0.75510204],\n",
       "       [1.        , 0.34615385, 0.64864865, 0.09183673],\n",
       "       [1.        , 0.34615385, 0.64864865, 0.92857143],\n",
       "       [0.        , 0.65384615, 0.65765766, 0.12244898],\n",
       "       [0.        , 0.23076923, 0.65765766, 0.86734694],\n",
       "       [1.        , 0.76923077, 0.65765766, 0.14285714],\n",
       "       [1.        , 0.17307692, 0.65765766, 0.69387755],\n",
       "       [1.        , 0.78846154, 0.7027027 , 0.13265306],\n",
       "       [1.        , 0.32692308, 0.7027027 , 0.90816327],\n",
       "       [0.        , 0.36538462, 0.73873874, 0.31632653],\n",
       "       [0.        , 0.26923077, 0.73873874, 0.86734694],\n",
       "       [1.        , 0.53846154, 0.74774775, 0.14285714],\n",
       "       [0.        , 0.21153846, 0.74774775, 0.8877551 ],\n",
       "       [0.        , 0.44230769, 0.75675676, 0.3877551 ],\n",
       "       [1.        , 0.23076923, 0.75675676, 0.97959184],\n",
       "       [0.        , 0.69230769, 0.77477477, 0.23469388],\n",
       "       [1.        , 0.19230769, 0.77477477, 0.68367347],\n",
       "       [0.        , 0.44230769, 0.79279279, 0.16326531],\n",
       "       [0.        , 0.34615385, 0.79279279, 0.85714286],\n",
       "       [0.        , 0.30769231, 0.79279279, 0.2244898 ],\n",
       "       [0.        , 0.26923077, 0.79279279, 0.69387755],\n",
       "       [1.        , 0.28846154, 0.88288288, 0.07142857],\n",
       "       [0.        , 0.38461538, 0.88288288, 0.91836735],\n",
       "       [0.        , 0.55769231, 0.94594595, 0.15306122],\n",
       "       [0.        , 0.32692308, 0.94594595, 0.79591837],\n",
       "       [0.        , 0.51923077, 1.        , 0.2755102 ],\n",
       "       [1.        , 0.26923077, 1.        , 0.74489796],\n",
       "       [1.        , 0.26923077, 0.41891892, 0.17346939],\n",
       "       [1.        , 0.23076923, 0.41891892, 0.83673469]])"
      ]
     },
     "execution_count": 22,
     "metadata": {},
     "output_type": "execute_result"
    }
   ],
   "source": [
    "#scalling data\n",
    "from sklearn.preprocessing import MinMaxScaler\n",
    "\n",
    "scale=MinMaxScaler()\n",
    "#scalingData=scale.fit_transform(data.iloc[:,:3])\n",
    "scalingData=scale.fit_transform(data)\n",
    "scalingData"
   ]
  },
  {
   "cell_type": "markdown",
   "id": "4fe7222d",
   "metadata": {},
   "source": [
    "# 9. Perform any of the clustering algorithms"
   ]
  },
  {
   "cell_type": "code",
   "execution_count": 23,
   "id": "ac617b3e",
   "metadata": {},
   "outputs": [],
   "source": [
    "from sklearn import cluster"
   ]
  },
  {
   "cell_type": "code",
   "execution_count": 24,
   "id": "41421a45",
   "metadata": {},
   "outputs": [],
   "source": [
    "error =[]\n",
    "for i in range(1,11):\n",
    "    kmeans=cluster.KMeans(n_clusters=i,init='k-means++',random_state=0)\n",
    "    kmeans.fit(df)\n",
    "    error.append(kmeans.inertia_)"
   ]
  },
  {
   "cell_type": "code",
   "execution_count": 25,
   "id": "913cbf21",
   "metadata": {},
   "outputs": [
    {
     "data": {
      "text/plain": [
       "[963713.675,\n",
       " 381436.104860486,\n",
       " 267939.1070836786,\n",
       " 191458.22767094016,\n",
       " 153440.3615817258,\n",
       " 119069.64011047292,\n",
       " 101207.28033910535,\n",
       " 85587.68268953267,\n",
       " 76477.1992151242,\n",
       " 68494.14545083062]"
      ]
     },
     "execution_count": 25,
     "metadata": {},
     "output_type": "execute_result"
    }
   ],
   "source": [
    "error"
   ]
  },
  {
   "cell_type": "code",
   "execution_count": 26,
   "id": "95420699",
   "metadata": {},
   "outputs": [
    {
     "data": {
      "text/plain": [
       "[201152.1081841432,\n",
       " 139326.23321730687,\n",
       " 100349.31619915174,\n",
       " 71419.31019600156,\n",
       " 54455.93879921248,\n",
       " 48690.465943332725,\n",
       " 43129.16053362864,\n",
       " 39462.985349472365,\n",
       " 35893.638233385245,\n",
       " 33283.62624047267]"
      ]
     },
     "execution_count": 26,
     "metadata": {},
     "output_type": "execute_result"
    }
   ],
   "source": [
    "from sklearn.cluster import KMeans\n",
    "TWSS=[]\n",
    "k=list(range(2,12))\n",
    "\n",
    "for i in k:\n",
    "  kmeans=KMeans(n_clusters=i,init='k-means++')\n",
    "  kmeans.fit(data)\n",
    "  TWSS.append(kmeans.inertia_)\n",
    "\n",
    "TWSS"
   ]
  },
  {
   "cell_type": "code",
   "execution_count": 27,
   "id": "f966ab88",
   "metadata": {},
   "outputs": [
    {
     "data": {
      "text/plain": [
       "KMeans(n_clusters=3)"
      ]
     },
     "execution_count": 27,
     "metadata": {},
     "output_type": "execute_result"
    }
   ],
   "source": [
    "#selecting  3 clusters\n",
    "model=KMeans(n_clusters=3)\n",
    "model.fit(data)"
   ]
  },
  {
   "cell_type": "markdown",
   "id": "4fe74e73",
   "metadata": {},
   "source": [
    "# Visualization"
   ]
  },
  {
   "cell_type": "code",
   "execution_count": 28,
   "id": "686e906d",
   "metadata": {},
   "outputs": [
    {
     "data": {
      "image/png": "[encoded data removed]",
      "text/plain": [
       "<Figure size 432x288 with 1 Axes>"
      ]
     },
     "metadata": {
      "needs_background": "light"
     },
     "output_type": "display_data"
    }
   ],
   "source": [
    "import matplotlib.pyplot as plt\n",
    "plt.plot(range(1,11),error)\n",
    "plt.title('Elbow method')\n",
    "plt.xlabel('no of clus')\n",
    "plt.ylabel('error')\n",
    "plt.show()"
   ]
  },
  {
   "cell_type": "markdown",
   "id": "90bbf86a",
   "metadata": {},
   "source": [
    "# 10. Add the cluster data with the primary dataset"
   ]
  },
  {
   "cell_type": "code",
   "execution_count": 29,
   "id": "ed1da822",
   "metadata": {},
   "outputs": [
    {
     "data": {
      "text/plain": [
       "array([2, 2, 2, 2, 2, 2, 2, 2, 2, 2, 2, 2, 2, 2, 2, 2, 2, 2, 2, 2, 2, 2,\n",
       "       2, 2, 2, 2, 2, 2, 2, 2, 2, 2, 2, 2, 2, 2, 2, 2, 2, 2, 2, 2, 2, 2,\n",
       "       2, 2, 2, 2, 2, 2, 2, 2, 2, 2, 2, 2, 2, 2, 2, 2, 2, 2, 2, 2, 2, 2,\n",
       "       2, 2, 2, 2, 2, 2, 2, 2, 2, 2, 2, 2, 2, 2, 2, 2, 2, 2, 2, 2, 2, 2,\n",
       "       2, 2, 2, 2, 2, 2, 2, 2, 2, 2, 2, 2, 2, 2, 2, 2, 2, 2, 2, 2, 2, 2,\n",
       "       2, 2, 2, 2, 2, 2, 2, 2, 2, 2, 2, 2, 2, 1, 0, 1, 0, 1, 0, 1, 0, 1,\n",
       "       0, 1, 0, 1, 0, 1, 0, 1, 0, 1, 0, 1, 0, 1, 0, 1, 0, 1, 0, 1, 0, 1,\n",
       "       0, 1, 0, 1, 0, 1, 0, 1, 0, 1, 0, 1, 0, 1, 0, 1, 0, 1, 0, 1, 0, 1,\n",
       "       0, 1, 0, 1, 0, 1, 0, 1, 0, 1, 0, 1, 0, 1, 0, 1, 0, 1, 0, 1, 0, 1,\n",
       "       0, 1])"
      ]
     },
     "execution_count": 29,
     "metadata": {},
     "output_type": "execute_result"
    }
   ],
   "source": [
    "#get the labels\n",
    "model.labels_"
   ]
  },
  {
   "cell_type": "code",
   "execution_count": 30,
   "id": "9ca5d868",
   "metadata": {},
   "outputs": [],
   "source": [
    "#converting in series\n",
    "mb=pd.Series(model.labels_)"
   ]
  },
  {
   "cell_type": "code",
   "execution_count": 31,
   "id": "37e6f7fa",
   "metadata": {},
   "outputs": [],
   "source": [
    "df['cluster'] =mb #kmeans.fit_predict(df)"
   ]
  },
  {
   "cell_type": "code",
   "execution_count": 32,
   "id": "c24aead7",
   "metadata": {},
   "outputs": [
    {
     "data": {
      "text/html": [
       "<div>\n",
       "<style scoped>\n",
       "    .dataframe tbody tr th:only-of-type {\n",
       "        vertical-align: middle;\n",
       "    }\n",
       "\n",
       "    .dataframe tbody tr th {\n",
       "        vertical-align: top;\n",
       "    }\n",
       "\n",
       "    .dataframe thead th {\n",
       "        text-align: right;\n",
       "    }\n",
       "</style>\n",
       "<table border=\"1\" class=\"dataframe\">\n",
       "  <thead>\n",
       "    <tr style=\"text-align: right;\">\n",
       "      <th></th>\n",
       "      <th>CustomerID</th>\n",
       "      <th>Gender</th>\n",
       "      <th>Age</th>\n",
       "      <th>Annual_Income</th>\n",
       "      <th>Spending_Score</th>\n",
       "      <th>cluster</th>\n",
       "    </tr>\n",
       "  </thead>\n",
       "  <tbody>\n",
       "    <tr>\n",
       "      <th>0</th>\n",
       "      <td>1</td>\n",
       "      <td>1</td>\n",
       "      <td>19</td>\n",
       "      <td>15.0</td>\n",
       "      <td>39</td>\n",
       "      <td>2</td>\n",
       "    </tr>\n",
       "    <tr>\n",
       "      <th>1</th>\n",
       "      <td>2</td>\n",
       "      <td>1</td>\n",
       "      <td>21</td>\n",
       "      <td>15.0</td>\n",
       "      <td>81</td>\n",
       "      <td>2</td>\n",
       "    </tr>\n",
       "    <tr>\n",
       "      <th>2</th>\n",
       "      <td>3</td>\n",
       "      <td>0</td>\n",
       "      <td>20</td>\n",
       "      <td>16.0</td>\n",
       "      <td>6</td>\n",
       "      <td>2</td>\n",
       "    </tr>\n",
       "    <tr>\n",
       "      <th>3</th>\n",
       "      <td>4</td>\n",
       "      <td>0</td>\n",
       "      <td>23</td>\n",
       "      <td>16.0</td>\n",
       "      <td>77</td>\n",
       "      <td>2</td>\n",
       "    </tr>\n",
       "    <tr>\n",
       "      <th>4</th>\n",
       "      <td>5</td>\n",
       "      <td>0</td>\n",
       "      <td>31</td>\n",
       "      <td>17.0</td>\n",
       "      <td>40</td>\n",
       "      <td>2</td>\n",
       "    </tr>\n",
       "    <tr>\n",
       "      <th>...</th>\n",
       "      <td>...</td>\n",
       "      <td>...</td>\n",
       "      <td>...</td>\n",
       "      <td>...</td>\n",
       "      <td>...</td>\n",
       "      <td>...</td>\n",
       "    </tr>\n",
       "    <tr>\n",
       "      <th>195</th>\n",
       "      <td>196</td>\n",
       "      <td>0</td>\n",
       "      <td>35</td>\n",
       "      <td>120.0</td>\n",
       "      <td>79</td>\n",
       "      <td>1</td>\n",
       "    </tr>\n",
       "    <tr>\n",
       "      <th>196</th>\n",
       "      <td>197</td>\n",
       "      <td>0</td>\n",
       "      <td>45</td>\n",
       "      <td>126.0</td>\n",
       "      <td>28</td>\n",
       "      <td>0</td>\n",
       "    </tr>\n",
       "    <tr>\n",
       "      <th>197</th>\n",
       "      <td>198</td>\n",
       "      <td>1</td>\n",
       "      <td>32</td>\n",
       "      <td>126.0</td>\n",
       "      <td>74</td>\n",
       "      <td>1</td>\n",
       "    </tr>\n",
       "    <tr>\n",
       "      <th>198</th>\n",
       "      <td>199</td>\n",
       "      <td>1</td>\n",
       "      <td>32</td>\n",
       "      <td>61.5</td>\n",
       "      <td>18</td>\n",
       "      <td>0</td>\n",
       "    </tr>\n",
       "    <tr>\n",
       "      <th>199</th>\n",
       "      <td>200</td>\n",
       "      <td>1</td>\n",
       "      <td>30</td>\n",
       "      <td>61.5</td>\n",
       "      <td>83</td>\n",
       "      <td>1</td>\n",
       "    </tr>\n",
       "  </tbody>\n",
       "</table>\n",
       "<p>200 rows × 6 columns</p>\n",
       "</div>"
      ],
      "text/plain": [
       "     CustomerID  Gender  Age  Annual_Income  Spending_Score  cluster\n",
       "0             1       1   19           15.0              39        2\n",
       "1             2       1   21           15.0              81        2\n",
       "2             3       0   20           16.0               6        2\n",
       "3             4       0   23           16.0              77        2\n",
       "4             5       0   31           17.0              40        2\n",
       "..          ...     ...  ...            ...             ...      ...\n",
       "195         196       0   35          120.0              79        1\n",
       "196         197       0   45          126.0              28        0\n",
       "197         198       1   32          126.0              74        1\n",
       "198         199       1   32           61.5              18        0\n",
       "199         200       1   30           61.5              83        1\n",
       "\n",
       "[200 rows x 6 columns]"
      ]
     },
     "execution_count": 32,
     "metadata": {},
     "output_type": "execute_result"
    }
   ],
   "source": [
    "df"
   ]
  },
  {
   "cell_type": "markdown",
   "id": "ad5330be",
   "metadata": {},
   "source": [
    "# 11. Split the data into dependent and independent variables."
   ]
  },
  {
   "cell_type": "markdown",
   "id": "db43e5a3",
   "metadata": {},
   "source": [
    "# Independent variable\n"
   ]
  },
  {
   "cell_type": "code",
   "execution_count": 33,
   "id": "6c862cb1",
   "metadata": {},
   "outputs": [
    {
     "data": {
      "text/html": [
       "<div>\n",
       "<style scoped>\n",
       "    .dataframe tbody tr th:only-of-type {\n",
       "        vertical-align: middle;\n",
       "    }\n",
       "\n",
       "    .dataframe tbody tr th {\n",
       "        vertical-align: top;\n",
       "    }\n",
       "\n",
       "    .dataframe thead th {\n",
       "        text-align: right;\n",
       "    }\n",
       "</style>\n",
       "<table border=\"1\" class=\"dataframe\">\n",
       "  <thead>\n",
       "    <tr style=\"text-align: right;\">\n",
       "      <th></th>\n",
       "      <th>CustomerID</th>\n",
       "      <th>Gender</th>\n",
       "      <th>Age</th>\n",
       "      <th>Annual_Income</th>\n",
       "      <th>Spending_Score</th>\n",
       "    </tr>\n",
       "  </thead>\n",
       "  <tbody>\n",
       "    <tr>\n",
       "      <th>0</th>\n",
       "      <td>1</td>\n",
       "      <td>1</td>\n",
       "      <td>19</td>\n",
       "      <td>15.0</td>\n",
       "      <td>39</td>\n",
       "    </tr>\n",
       "    <tr>\n",
       "      <th>1</th>\n",
       "      <td>2</td>\n",
       "      <td>1</td>\n",
       "      <td>21</td>\n",
       "      <td>15.0</td>\n",
       "      <td>81</td>\n",
       "    </tr>\n",
       "    <tr>\n",
       "      <th>2</th>\n",
       "      <td>3</td>\n",
       "      <td>0</td>\n",
       "      <td>20</td>\n",
       "      <td>16.0</td>\n",
       "      <td>6</td>\n",
       "    </tr>\n",
       "    <tr>\n",
       "      <th>3</th>\n",
       "      <td>4</td>\n",
       "      <td>0</td>\n",
       "      <td>23</td>\n",
       "      <td>16.0</td>\n",
       "      <td>77</td>\n",
       "    </tr>\n",
       "    <tr>\n",
       "      <th>4</th>\n",
       "      <td>5</td>\n",
       "      <td>0</td>\n",
       "      <td>31</td>\n",
       "      <td>17.0</td>\n",
       "      <td>40</td>\n",
       "    </tr>\n",
       "    <tr>\n",
       "      <th>...</th>\n",
       "      <td>...</td>\n",
       "      <td>...</td>\n",
       "      <td>...</td>\n",
       "      <td>...</td>\n",
       "      <td>...</td>\n",
       "    </tr>\n",
       "    <tr>\n",
       "      <th>195</th>\n",
       "      <td>196</td>\n",
       "      <td>0</td>\n",
       "      <td>35</td>\n",
       "      <td>120.0</td>\n",
       "      <td>79</td>\n",
       "    </tr>\n",
       "    <tr>\n",
       "      <th>196</th>\n",
       "      <td>197</td>\n",
       "      <td>0</td>\n",
       "      <td>45</td>\n",
       "      <td>126.0</td>\n",
       "      <td>28</td>\n",
       "    </tr>\n",
       "    <tr>\n",
       "      <th>197</th>\n",
       "      <td>198</td>\n",
       "      <td>1</td>\n",
       "      <td>32</td>\n",
       "      <td>126.0</td>\n",
       "      <td>74</td>\n",
       "    </tr>\n",
       "    <tr>\n",
       "      <th>198</th>\n",
       "      <td>199</td>\n",
       "      <td>1</td>\n",
       "      <td>32</td>\n",
       "      <td>61.5</td>\n",
       "      <td>18</td>\n",
       "    </tr>\n",
       "    <tr>\n",
       "      <th>199</th>\n",
       "      <td>200</td>\n",
       "      <td>1</td>\n",
       "      <td>30</td>\n",
       "      <td>61.5</td>\n",
       "      <td>83</td>\n",
       "    </tr>\n",
       "  </tbody>\n",
       "</table>\n",
       "<p>200 rows × 5 columns</p>\n",
       "</div>"
      ],
      "text/plain": [
       "     CustomerID  Gender  Age  Annual_Income  Spending_Score\n",
       "0             1       1   19           15.0              39\n",
       "1             2       1   21           15.0              81\n",
       "2             3       0   20           16.0               6\n",
       "3             4       0   23           16.0              77\n",
       "4             5       0   31           17.0              40\n",
       "..          ...     ...  ...            ...             ...\n",
       "195         196       0   35          120.0              79\n",
       "196         197       0   45          126.0              28\n",
       "197         198       1   32          126.0              74\n",
       "198         199       1   32           61.5              18\n",
       "199         200       1   30           61.5              83\n",
       "\n",
       "[200 rows x 5 columns]"
      ]
     },
     "execution_count": 33,
     "metadata": {},
     "output_type": "execute_result"
    }
   ],
   "source": [
    "idv=df.iloc[:,:-1]#independent variables\n",
    "idv"
   ]
  },
  {
   "cell_type": "markdown",
   "id": "a063685e",
   "metadata": {},
   "source": [
    "# Dependent variable"
   ]
  },
  {
   "cell_type": "code",
   "execution_count": 34,
   "id": "9186ceb0",
   "metadata": {},
   "outputs": [
    {
     "data": {
      "text/plain": [
       "0      2\n",
       "1      2\n",
       "2      2\n",
       "3      2\n",
       "4      2\n",
       "      ..\n",
       "195    1\n",
       "196    0\n",
       "197    1\n",
       "198    0\n",
       "199    1\n",
       "Name: cluster, Length: 200, dtype: int32"
      ]
     },
     "execution_count": 34,
     "metadata": {},
     "output_type": "execute_result"
    }
   ],
   "source": [
    "dv=df.iloc[:,-1]#dependent variables\n",
    "dv"
   ]
  },
  {
   "cell_type": "markdown",
   "id": "8827b526",
   "metadata": {},
   "source": [
    "# 12. Split the data into training and testing"
   ]
  },
  {
   "cell_type": "code",
   "execution_count": 35,
   "id": "07df6e80",
   "metadata": {},
   "outputs": [
    {
     "data": {
      "text/plain": [
       "(     CustomerID  Gender  Age  Annual_Income  Spending_Score\n",
       " 88           89       0   34           58.0              60\n",
       " 58           59       0   27           46.0              51\n",
       " 113         114       1   19           64.0              46\n",
       " 149         150       1   34           78.0              90\n",
       " 36           37       0   42           34.0              17\n",
       " ..          ...     ...  ...            ...             ...\n",
       " 151         152       1   39           78.0              88\n",
       " 67           68       0   68           48.0              48\n",
       " 25           26       1   29           28.0              82\n",
       " 196         197       0   45          126.0              28\n",
       " 175         176       0   30           88.0              86\n",
       " \n",
       " [140 rows x 5 columns],\n",
       "      CustomerID  Gender  Age  Annual_Income  Spending_Score\n",
       " 86           87       0   55           57.0              58\n",
       " 120         121       1   27           67.0              56\n",
       " 22           23       0   46           25.0               5\n",
       " 11           12       0   35           19.0              99\n",
       " 195         196       0   35          120.0              79\n",
       " 2             3       0   20           16.0               6\n",
       " 121         122       0   38           67.0              40\n",
       " 94           95       0   32           60.0              42\n",
       " 66           67       0   43           48.0              50\n",
       " 63           64       0   54           47.0              59\n",
       " 108         109       1   68           63.0              43\n",
       " 96           97       0   47           60.0              47\n",
       " 138         139       1   19           74.0              10\n",
       " 65           66       1   18           48.0              59\n",
       " 188         189       0   41          103.0              17\n",
       " 155         156       0   27           78.0              89\n",
       " 24           25       0   54           28.0              14\n",
       " 99          100       1   20           61.0              49\n",
       " 153         154       0   38           78.0              76\n",
       " 46           47       0   50           40.0              55\n",
       " 178         179       1   59           93.0              14\n",
       " 139         140       0   35           74.0              72\n",
       " 143         144       0   32           76.0              87\n",
       " 74           75       1   59           54.0              47\n",
       " 186         187       0   54          101.0              24\n",
       " 169         170       1   32           87.0              63\n",
       " 101         102       0   49           62.0              48\n",
       " 197         198       1   32          126.0              74\n",
       " 109         110       1   66           63.0              48\n",
       " 177         178       1   27           88.0              69\n",
       " 57           58       1   69           44.0              46\n",
       " 106         107       0   66           63.0              50\n",
       " 160         161       0   56           79.0              35\n",
       " 84           85       0   21           54.0              57\n",
       " 124         125       0   23           70.0              29\n",
       " 85           86       1   48           54.0              46\n",
       " 126         127       1   43           71.0              35\n",
       " 183         184       0   29           98.0              88\n",
       " 80           81       1   57           54.0              51\n",
       " 116         117       0   63           65.0              43\n",
       " 129         130       1   38           71.0              75\n",
       " 128         129       1   59           71.0              11\n",
       " 60           61       1   70           46.0              56\n",
       " 122         123       0   40           69.0              58\n",
       " 27           28       1   35           28.0              61\n",
       " 40           41       0   65           38.0              35\n",
       " 45           46       0   24           39.0              65\n",
       " 191         192       0   32          103.0              69\n",
       " 31           32       0   21           30.0              73\n",
       " 154         155       0   47           78.0              16\n",
       " 32           33       1   53           33.0               4\n",
       " 13           14       0   24           20.0              77\n",
       " 117         118       0   49           65.0              59\n",
       " 78           79       0   23           54.0              52\n",
       " 131         132       1   39           71.0              75\n",
       " 28           29       0   40           29.0              31\n",
       " 18           19       1   52           23.0              29\n",
       " 141         142       1   32           75.0              93\n",
       " 134         135       1   20           73.0               5\n",
       " 97           98       0   27           60.0              50)"
      ]
     },
     "execution_count": 35,
     "metadata": {},
     "output_type": "execute_result"
    }
   ],
   "source": [
    "from sklearn.model_selection import train_test_split\n",
    "X_train,X_test,y_train,y_test=train_test_split(idv,dv,test_size=0.3,random_state=7)\n",
    "X_train,X_test"
   ]
  },
  {
   "cell_type": "code",
   "execution_count": 36,
   "id": "32c27465",
   "metadata": {},
   "outputs": [
    {
     "name": "stdout",
     "output_type": "stream",
     "text": [
      "88     2\n",
      "58     2\n",
      "113    2\n",
      "149    1\n",
      "36     2\n",
      "      ..\n",
      "151    1\n",
      "67     2\n",
      "25     2\n",
      "196    0\n",
      "175    1\n",
      "Name: cluster, Length: 140, dtype: int32 (60,)\n"
     ]
    }
   ],
   "source": [
    "print(y_train,y_test.shape)"
   ]
  },
  {
   "cell_type": "markdown",
   "id": "8c6b26ea",
   "metadata": {},
   "source": [
    "# 13. MODEL BUILDING"
   ]
  },
  {
   "cell_type": "code",
   "execution_count": 37,
   "id": "c0a802c6",
   "metadata": {},
   "outputs": [],
   "source": [
    "from sklearn import svm #SVM REFER SUPPORT VECTOR MACHINE\n",
    "svm_model=svm.SVC(kernel='linear')"
   ]
  },
  {
   "cell_type": "markdown",
   "id": "ce389460",
   "metadata": {},
   "source": [
    "# 14. Train the Model"
   ]
  },
  {
   "cell_type": "code",
   "execution_count": 38,
   "id": "541bf8f3",
   "metadata": {},
   "outputs": [
    {
     "data": {
      "text/plain": [
       "SVC(kernel='linear')"
      ]
     },
     "execution_count": 38,
     "metadata": {},
     "output_type": "execute_result"
    }
   ],
   "source": [
    "svm_model.fit(X_train,y_train)"
   ]
  },
  {
   "cell_type": "markdown",
   "id": "05be5154",
   "metadata": {},
   "source": [
    "# 15. Test the Model"
   ]
  },
  {
   "cell_type": "code",
   "execution_count": 39,
   "id": "fb88766b",
   "metadata": {},
   "outputs": [
    {
     "data": {
      "text/plain": [
       "array([2, 2, 2, 2, 1, 2, 2, 2, 2, 2, 2, 2, 0, 2, 0, 1, 2, 2, 1, 2, 0, 1,\n",
       "       1, 2, 0, 1, 2, 1, 2, 1, 2, 2, 0, 2, 0, 2, 0, 1, 2, 2, 1, 0, 2, 2,\n",
       "       2, 2, 2, 1, 2, 0, 2, 2, 2, 2, 1, 2, 2, 1, 0, 2])"
      ]
     },
     "execution_count": 39,
     "metadata": {},
     "output_type": "execute_result"
    }
   ],
   "source": [
    "svm_pred=svm_model.predict(X_test)\n",
    "svm_pred"
   ]
  },
  {
   "cell_type": "markdown",
   "id": "b6505304",
   "metadata": {},
   "source": [
    "# 16. Measure the performance using Evaluation Metrics"
   ]
  },
  {
   "cell_type": "code",
   "execution_count": 48,
   "id": "ffc37154",
   "metadata": {},
   "outputs": [
    {
     "data": {
      "text/plain": [
       "1.0"
      ]
     },
     "execution_count": 48,
     "metadata": {},
     "output_type": "execute_result"
    }
   ],
   "source": [
    "from sklearn.metrics import accuracy_score,confusion_matrix,classification_report\n",
    "accuracy_score(y_test,svm_pred)"
   ]
  },
  {
   "cell_type": "code",
   "execution_count": 49,
   "id": "22b8b48a",
   "metadata": {
    "scrolled": true
   },
   "outputs": [
    {
     "data": {
      "text/plain": [
       "array([[10,  0,  0],\n",
       "       [ 0, 13,  0],\n",
       "       [ 0,  0, 37]], dtype=int64)"
      ]
     },
     "execution_count": 49,
     "metadata": {},
     "output_type": "execute_result"
    }
   ],
   "source": [
    "metrics.confusion_matrix(y_test,svm_pred)"
   ]
  },
  {
   "cell_type": "code",
   "execution_count": 50,
   "id": "e0a64521",
   "metadata": {},
   "outputs": [
    {
     "data": {
      "text/html": [
       "<div>\n",
       "<style scoped>\n",
       "    .dataframe tbody tr th:only-of-type {\n",
       "        vertical-align: middle;\n",
       "    }\n",
       "\n",
       "    .dataframe tbody tr th {\n",
       "        vertical-align: top;\n",
       "    }\n",
       "\n",
       "    .dataframe thead th {\n",
       "        text-align: right;\n",
       "    }\n",
       "</style>\n",
       "<table border=\"1\" class=\"dataframe\">\n",
       "  <thead>\n",
       "    <tr style=\"text-align: right;\">\n",
       "      <th>col_0</th>\n",
       "      <th>0</th>\n",
       "      <th>1</th>\n",
       "      <th>2</th>\n",
       "    </tr>\n",
       "    <tr>\n",
       "      <th>cluster</th>\n",
       "      <th></th>\n",
       "      <th></th>\n",
       "      <th></th>\n",
       "    </tr>\n",
       "  </thead>\n",
       "  <tbody>\n",
       "    <tr>\n",
       "      <th>0</th>\n",
       "      <td>10</td>\n",
       "      <td>0</td>\n",
       "      <td>0</td>\n",
       "    </tr>\n",
       "    <tr>\n",
       "      <th>1</th>\n",
       "      <td>0</td>\n",
       "      <td>13</td>\n",
       "      <td>0</td>\n",
       "    </tr>\n",
       "    <tr>\n",
       "      <th>2</th>\n",
       "      <td>0</td>\n",
       "      <td>0</td>\n",
       "      <td>37</td>\n",
       "    </tr>\n",
       "  </tbody>\n",
       "</table>\n",
       "</div>"
      ],
      "text/plain": [
       "col_0     0   1   2\n",
       "cluster            \n",
       "0        10   0   0\n",
       "1         0  13   0\n",
       "2         0   0  37"
      ]
     },
     "execution_count": 50,
     "metadata": {},
     "output_type": "execute_result"
    }
   ],
   "source": [
    "pd.crosstab(y_test,svm_pred)"
   ]
  },
  {
   "cell_type": "code",
   "execution_count": 51,
   "id": "320207f6",
   "metadata": {},
   "outputs": [
    {
     "name": "stdout",
     "output_type": "stream",
     "text": [
      "              precision    recall  f1-score   support\n",
      "\n",
      "           0       1.00      1.00      1.00        10\n",
      "           1       1.00      1.00      1.00        13\n",
      "           2       1.00      1.00      1.00        37\n",
      "\n",
      "    accuracy                           1.00        60\n",
      "   macro avg       1.00      1.00      1.00        60\n",
      "weighted avg       1.00      1.00      1.00        60\n",
      "\n"
     ]
    }
   ],
   "source": [
    "print(classification_report(y_test,svm_pred))"
   ]
  }
 ],
 "metadata": {
  "kernelspec": {
   "display_name": "Python 3 (ipykernel)",
   "language": "python",
   "name": "python3"
  },
  "language_info": {
   "codemirror_mode": {
    "name": "ipython",
    "version": 3
   },
   "file_extension": ".py",
   "mimetype": "text/x-python",
   "name": "python",
   "nbconvert_exporter": "python",
   "pygments_lexer": "ipython3",
   "version": "3.9.12"
  }
 },
 "nbformat": 4,
 "nbformat_minor": 5
}
